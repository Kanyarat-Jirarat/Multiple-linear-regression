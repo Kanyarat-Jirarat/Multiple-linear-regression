{
  "nbformat": 4,
  "nbformat_minor": 0,
  "metadata": {
    "colab": {
      "provenance": [],
      "authorship_tag": "ABX9TyMZOGD719zbV2Dk0SjFVNvS",
      "include_colab_link": true
    },
    "kernelspec": {
      "name": "python3",
      "display_name": "Python 3"
    },
    "language_info": {
      "name": "python"
    }
  },
  "cells": [
    {
      "cell_type": "markdown",
      "metadata": {
        "id": "view-in-github",
        "colab_type": "text"
      },
      "source": [
        "<a href=\"https://colab.research.google.com/github/Kanyarat-Jirarat/DADS6003_ML/blob/main/PM2_5_Pollution_Levels.ipynb\" target=\"_parent\"><img src=\"https://colab.research.google.com/assets/colab-badge.svg\" alt=\"Open In Colab\"/></a>"
      ]
    },
    {
      "cell_type": "markdown",
      "source": [
        "Import the raw CSV file on GitHub"
      ],
      "metadata": {
        "id": "ytvLHER3CCzN"
      }
    },
    {
      "cell_type": "code",
      "source": [
        "import pandas as pd\n",
        "import requests\n",
        "from io import StringIO\n",
        "\n",
        "# URL of the raw CSV file on GitHub\n",
        "url = \"https://raw.githubusercontent.com/Kanyarat-Jirarat/DADS6003_ML/main/PM2.5_Global_Air_Pollution.csv\"\n",
        "\n",
        "# Fetch the content of the CSV file\n",
        "response = requests.get(url)\n",
        "\n",
        "# Check if the request was successful\n",
        "if response.status_code == 200:\n",
        "    # Read the CSV data into a DataFrame\n",
        "    df = pd.read_csv(StringIO(response.text))\n",
        "    # Display the DataFrame\n",
        "    print(df.head())\n",
        "else:\n",
        "    print(\"Failed to fetch data from URL:\", url)"
      ],
      "metadata": {
        "colab": {
          "base_uri": "https://localhost:8080/"
        },
        "id": "So0Hz5dvBpGF",
        "outputId": "e51e23b6-2764-47ab-f270-7035d1fca5b3"
      },
      "execution_count": 1,
      "outputs": [
        {
          "output_type": "stream",
          "name": "stdout",
          "text": [
            "  Country Name Country Code       2010       2011       2012       2013  \\\n",
            "0  Afghanistan          AFG  65.245592  66.835727  66.023174  61.366745   \n",
            "1       Angola          AGO  33.787247  33.104195  33.415495  34.663923   \n",
            "2      Albania          ALB  21.277828  22.772537  20.578259  19.938517   \n",
            "3      Andorra          AND  12.807197  13.273506  12.407053  11.813673   \n",
            "4   Arab World          ARB  53.787001  52.652279  53.297270  54.053822   \n",
            "\n",
            "        2014       2015       2016       2017  \n",
            "0  59.010330  61.252656  56.287047  56.910808  \n",
            "1  32.974025  32.729873  31.785389  32.388505  \n",
            "2  18.883955  19.512540  18.189934  18.200603  \n",
            "3  10.830418  11.462178  10.255834  10.307621  \n",
            "4  52.583603  60.406813  58.764905  58.689259  \n"
          ]
        }
      ]
    },
    {
      "cell_type": "code",
      "source": [
        "df.info()"
      ],
      "metadata": {
        "colab": {
          "base_uri": "https://localhost:8080/"
        },
        "id": "dtJ5KLpiCn9H",
        "outputId": "3452dc12-8901-4e09-8933-b587d25397a2"
      },
      "execution_count": 2,
      "outputs": [
        {
          "output_type": "stream",
          "name": "stdout",
          "text": [
            "<class 'pandas.core.frame.DataFrame'>\n",
            "RangeIndex: 240 entries, 0 to 239\n",
            "Data columns (total 10 columns):\n",
            " #   Column        Non-Null Count  Dtype  \n",
            "---  ------        --------------  -----  \n",
            " 0   Country Name  240 non-null    object \n",
            " 1   Country Code  240 non-null    object \n",
            " 2   2010          240 non-null    float64\n",
            " 3   2011          240 non-null    float64\n",
            " 4   2012          240 non-null    float64\n",
            " 5   2013          240 non-null    float64\n",
            " 6   2014          240 non-null    float64\n",
            " 7   2015          240 non-null    float64\n",
            " 8   2016          240 non-null    float64\n",
            " 9   2017          240 non-null    float64\n",
            "dtypes: float64(8), object(2)\n",
            "memory usage: 18.9+ KB\n"
          ]
        }
      ]
    },
    {
      "cell_type": "code",
      "source": [
        "import pandas as pd\n",
        "import plotly.graph_objects as go"
      ],
      "metadata": {
        "id": "19x_9TreAyd5"
      },
      "execution_count": 3,
      "outputs": []
    },
    {
      "cell_type": "code",
      "source": [
        "# print(df.dtypes)\n",
        "\n",
        "df.fillna(0, inplace=True)  # Replace NaNs with 0\n",
        "\n",
        "# Convert numeric columns to appropriate data types\n",
        "numeric_columns = ['2010', '2011', '2012', '2013', '2014', '2015', '2016', '2017']\n",
        "df[numeric_columns] = df[numeric_columns].astype(float)\n",
        "\n",
        "# Perform groupby and sum operation\n",
        "ttl = df.melt(id_vars=('Country Name'), value_vars=numeric_columns).groupby('Country Name').sum().sort_values(by='value', ascending=False)\n",
        "\n",
        "# Sort countries by sum of PM2.5 pollution levels in descending order\n",
        "ttl = ttl.sort_values(by='value', ascending=False)\n",
        "\n",
        "# Get the top 20 countries\n",
        "top20_countries = ttl.head(20).index\n",
        "\n",
        "# Filter the DataFrame to include only the top 20 countries\n",
        "is_top20 = df['Country Name'].isin(top20_countries)\n",
        "top20 = df[is_top20]\n",
        "\n",
        "# Define colors for the years\n",
        "colors = {x: 'rgba(0, 0, 0, {})'.format((x - 2009) / 10) for x in range(2010, 2018)}\n",
        "\n",
        "# Create the data for the bar chart\n",
        "data = [\n",
        "    go.Bar(\n",
        "        name=str(year),\n",
        "        marker_color=colors[year],\n",
        "        marker={\"line\": {\"width\": 0}},\n",
        "        x=top20['Country Name'],\n",
        "        y=top20[str(year)]\n",
        "    ) for year in range(2010, 2018)\n",
        "]\n",
        "\n",
        "# Create the figure\n",
        "fig = go.Figure(data=data)\n",
        "\n",
        "# Update layout\n",
        "fig.update_layout(\n",
        "    barmode='stack',\n",
        "    xaxis_showgrid=False,\n",
        "    yaxis_showgrid=False,\n",
        "    title='Top 20 Countries by PM2.5 Pollution Levels'\n",
        ")\n",
        "\n",
        "# Sort x-axis (country names) in descending order\n",
        "fig.update_layout(xaxis={'categoryorder':'total descending'})\n",
        "\n",
        "# Show the figure\n",
        "fig.show()\n"
      ],
      "metadata": {
        "colab": {
          "base_uri": "https://localhost:8080/",
          "height": 542
        },
        "id": "9-SzP6ovF4i8",
        "outputId": "82d657e0-12ca-4282-d4d9-92c671ff60b6"
      },
      "execution_count": 4,
      "outputs": [
        {
          "output_type": "display_data",
          "data": {
            "text/html": [
              "<html>\n",
              "<head><meta charset=\"utf-8\" /></head>\n",
              "<body>\n",
              "    <div>            <script src=\"https://cdnjs.cloudflare.com/ajax/libs/mathjax/2.7.5/MathJax.js?config=TeX-AMS-MML_SVG\"></script><script type=\"text/javascript\">if (window.MathJax && window.MathJax.Hub && window.MathJax.Hub.Config) {window.MathJax.Hub.Config({SVG: {font: \"STIX-Web\"}});}</script>                <script type=\"text/javascript\">window.PlotlyConfig = {MathJaxConfig: 'local'};</script>\n",
              "        <script charset=\"utf-8\" src=\"https://cdn.plot.ly/plotly-2.24.1.min.js\"></script>                <div id=\"f1099e60-e20a-4935-9918-3f12d41e46f6\" class=\"plotly-graph-div\" style=\"height:525px; width:100%;\"></div>            <script type=\"text/javascript\">                                    window.PLOTLYENV=window.PLOTLYENV || {};                                    if (document.getElementById(\"f1099e60-e20a-4935-9918-3f12d41e46f6\")) {                    Plotly.newPlot(                        \"f1099e60-e20a-4935-9918-3f12d41e46f6\",                        [{\"marker\":{\"color\":\"rgba(0, 0, 0, 0.1)\",\"line\":{\"width\":0}},\"name\":\"2010\",\"x\":[\"Afghanistan\",\"Bangladesh\",\"Bahrain\",\"China\",\"Cameroon\",\"Early-demographic dividend\",\"Egypt, Arab Rep.\",\"India\",\"Iraq\",\"Kuwait\",\"Lower middle income\",\"Niger\",\"Nigeria\",\"Nepal\",\"Pakistan\",\"Qatar\",\"South Asia\",\"Saudi Arabia\",\"Chad\",\"South Asia (IDA & IBRD)\"],\"y\":[65.24559168,70.76499566,65.63088097,69.47957041,59.29340315,64.28431299,77.44661885,95.75817945,68.71140482,62.74398094,67.27958551,69.15017669,52.60906391,100.7844279,68.00519044,84.12290235,89.16764514,81.69918208,56.58662749,89.16764514],\"type\":\"bar\"},{\"marker\":{\"color\":\"rgba(0, 0, 0, 0.2)\",\"line\":{\"width\":0}},\"name\":\"2011\",\"x\":[\"Afghanistan\",\"Bangladesh\",\"Bahrain\",\"China\",\"Cameroon\",\"Early-demographic dividend\",\"Egypt, Arab Rep.\",\"India\",\"Iraq\",\"Kuwait\",\"Lower middle income\",\"Niger\",\"Nigeria\",\"Nepal\",\"Pakistan\",\"Qatar\",\"South Asia\",\"Saudi Arabia\",\"Chad\",\"South Asia (IDA & IBRD)\"],\"y\":[66.83572711,70.2105489,63.73249929,70.54202883,58.07690148,64.85108991,70.78635638,97.59937863,66.36260979,62.82540677,67.7944635,72.98276678,50.97308923,100.7660607,68.54493561,81.2730055,90.56946604,82.41903191,55.19515958,90.56946604],\"type\":\"bar\"},{\"marker\":{\"color\":\"rgba(0, 0, 0, 0.3)\",\"line\":{\"width\":0}},\"name\":\"2012\",\"x\":[\"Afghanistan\",\"Bangladesh\",\"Bahrain\",\"China\",\"Cameroon\",\"Early-demographic dividend\",\"Egypt, Arab Rep.\",\"India\",\"Iraq\",\"Kuwait\",\"Lower middle income\",\"Niger\",\"Nigeria\",\"Nepal\",\"Pakistan\",\"Qatar\",\"South Asia\",\"Saudi Arabia\",\"Chad\",\"South Asia (IDA & IBRD)\"],\"y\":[66.02317421,70.79390882,70.28748254,63.82701684,62.776697,60.37496625,72.79056861,88.1694406,66.84207687,64.07091103,63.31200554,72.54464459,56.1296377,96.96329149,62.37664629,89.24697128,82.73166317,85.51330311,58.67538804,82.73166317],\"type\":\"bar\"},{\"marker\":{\"color\":\"rgba(0, 0, 0, 0.4)\",\"line\":{\"width\":0}},\"name\":\"2013\",\"x\":[\"Afghanistan\",\"Bangladesh\",\"Bahrain\",\"China\",\"Cameroon\",\"Early-demographic dividend\",\"Egypt, Arab Rep.\",\"India\",\"Iraq\",\"Kuwait\",\"Lower middle income\",\"Niger\",\"Nigeria\",\"Nepal\",\"Pakistan\",\"Qatar\",\"South Asia\",\"Saudi Arabia\",\"Chad\",\"South Asia (IDA & IBRD)\"],\"y\":[61.36674452,65.64508289,67.79467818,65.51455022,58.18633815,61.39517368,76.21365354,91.80479161,63.80269591,62.61130895,64.01195075,63.03171725,49.74068894,95.31398561,61.02216287,88.89051503,84.690261,83.63099223,53.0564069,84.690261],\"type\":\"bar\"},{\"marker\":{\"color\":\"rgba(0, 0, 0, 0.5)\",\"line\":{\"width\":0}},\"name\":\"2014\",\"x\":[\"Afghanistan\",\"Bangladesh\",\"Bahrain\",\"China\",\"Cameroon\",\"Early-demographic dividend\",\"Egypt, Arab Rep.\",\"India\",\"Iraq\",\"Kuwait\",\"Lower middle income\",\"Niger\",\"Nigeria\",\"Nepal\",\"Pakistan\",\"Qatar\",\"South Asia\",\"Saudi Arabia\",\"Chad\",\"South Asia (IDA & IBRD)\"],\"y\":[59.01033025,68.3953774,62.75854371,59.76736751,56.71530558,59.99596877,76.55960126,89.62238269,56.56703027,55.62390422,62.65168718,60.54135722,48.63337361,98.11601657,59.51836271,78.83284035,83.06717057,75.60844062,51.24716851,83.06717057],\"type\":\"bar\"},{\"marker\":{\"color\":\"rgba(0, 0, 0, 0.6)\",\"line\":{\"width\":0}},\"name\":\"2015\",\"x\":[\"Afghanistan\",\"Bangladesh\",\"Bahrain\",\"China\",\"Cameroon\",\"Early-demographic dividend\",\"Egypt, Arab Rep.\",\"India\",\"Iraq\",\"Kuwait\",\"Lower middle income\",\"Niger\",\"Nigeria\",\"Nepal\",\"Pakistan\",\"Qatar\",\"South Asia\",\"Saudi Arabia\",\"Chad\",\"South Asia (IDA & IBRD)\"],\"y\":[61.2526558,66.96574924,72.60467743,59.06342246,77.05174298,60.61444067,88.21338765,89.3033343,66.26503791,65.40607715,64.84786016,87.28128201,75.39899187,96.25276818,60.08589291,94.40389119,82.72487678,97.432289,68.68239375,82.72487678],\"type\":\"bar\"},{\"marker\":{\"color\":\"rgba(0, 0, 0, 0.7)\",\"line\":{\"width\":0}},\"name\":\"2016\",\"x\":[\"Afghanistan\",\"Bangladesh\",\"Bahrain\",\"China\",\"Cameroon\",\"Early-demographic dividend\",\"Egypt, Arab Rep.\",\"India\",\"Iraq\",\"Kuwait\",\"Lower middle income\",\"Niger\",\"Nigeria\",\"Nepal\",\"Pakistan\",\"Qatar\",\"South Asia\",\"Saudi Arabia\",\"Chad\",\"South Asia (IDA & IBRD)\"],\"y\":[56.28704672,60.12627467,69.86418236,52.21132204,73.20529127,59.87018031,88.1485004,89.67217693,63.95479607,60.84385161,63.89591152,87.70847201,71.369601,98.05471403,58.63276393,88.22244652,81.98118027,84.46577505,64.77076912,81.98118027],\"type\":\"bar\"},{\"marker\":{\"color\":\"rgba(0, 0, 0, 0.8)\",\"line\":{\"width\":0}},\"name\":\"2017\",\"x\":[\"Afghanistan\",\"Bangladesh\",\"Bahrain\",\"China\",\"Cameroon\",\"Early-demographic dividend\",\"Egypt, Arab Rep.\",\"India\",\"Iraq\",\"Kuwait\",\"Lower middle income\",\"Niger\",\"Nigeria\",\"Nepal\",\"Pakistan\",\"Qatar\",\"South Asia\",\"Saudi Arabia\",\"Chad\",\"South Asia (IDA & IBRD)\"],\"y\":[56.91080835,60.84578458,70.81620768,52.66459583,72.79309622,60.35929045,86.99945205,90.87321047,61.63623571,60.74515954,64.39857894,94.05381768,71.79817438,99.73437372,58.28241877,91.18732793,82.86952124,87.94544668,66.0292055,82.86952124],\"type\":\"bar\"}],                        {\"template\":{\"data\":{\"histogram2dcontour\":[{\"type\":\"histogram2dcontour\",\"colorbar\":{\"outlinewidth\":0,\"ticks\":\"\"},\"colorscale\":[[0.0,\"#0d0887\"],[0.1111111111111111,\"#46039f\"],[0.2222222222222222,\"#7201a8\"],[0.3333333333333333,\"#9c179e\"],[0.4444444444444444,\"#bd3786\"],[0.5555555555555556,\"#d8576b\"],[0.6666666666666666,\"#ed7953\"],[0.7777777777777778,\"#fb9f3a\"],[0.8888888888888888,\"#fdca26\"],[1.0,\"#f0f921\"]]}],\"choropleth\":[{\"type\":\"choropleth\",\"colorbar\":{\"outlinewidth\":0,\"ticks\":\"\"}}],\"histogram2d\":[{\"type\":\"histogram2d\",\"colorbar\":{\"outlinewidth\":0,\"ticks\":\"\"},\"colorscale\":[[0.0,\"#0d0887\"],[0.1111111111111111,\"#46039f\"],[0.2222222222222222,\"#7201a8\"],[0.3333333333333333,\"#9c179e\"],[0.4444444444444444,\"#bd3786\"],[0.5555555555555556,\"#d8576b\"],[0.6666666666666666,\"#ed7953\"],[0.7777777777777778,\"#fb9f3a\"],[0.8888888888888888,\"#fdca26\"],[1.0,\"#f0f921\"]]}],\"heatmap\":[{\"type\":\"heatmap\",\"colorbar\":{\"outlinewidth\":0,\"ticks\":\"\"},\"colorscale\":[[0.0,\"#0d0887\"],[0.1111111111111111,\"#46039f\"],[0.2222222222222222,\"#7201a8\"],[0.3333333333333333,\"#9c179e\"],[0.4444444444444444,\"#bd3786\"],[0.5555555555555556,\"#d8576b\"],[0.6666666666666666,\"#ed7953\"],[0.7777777777777778,\"#fb9f3a\"],[0.8888888888888888,\"#fdca26\"],[1.0,\"#f0f921\"]]}],\"heatmapgl\":[{\"type\":\"heatmapgl\",\"colorbar\":{\"outlinewidth\":0,\"ticks\":\"\"},\"colorscale\":[[0.0,\"#0d0887\"],[0.1111111111111111,\"#46039f\"],[0.2222222222222222,\"#7201a8\"],[0.3333333333333333,\"#9c179e\"],[0.4444444444444444,\"#bd3786\"],[0.5555555555555556,\"#d8576b\"],[0.6666666666666666,\"#ed7953\"],[0.7777777777777778,\"#fb9f3a\"],[0.8888888888888888,\"#fdca26\"],[1.0,\"#f0f921\"]]}],\"contourcarpet\":[{\"type\":\"contourcarpet\",\"colorbar\":{\"outlinewidth\":0,\"ticks\":\"\"}}],\"contour\":[{\"type\":\"contour\",\"colorbar\":{\"outlinewidth\":0,\"ticks\":\"\"},\"colorscale\":[[0.0,\"#0d0887\"],[0.1111111111111111,\"#46039f\"],[0.2222222222222222,\"#7201a8\"],[0.3333333333333333,\"#9c179e\"],[0.4444444444444444,\"#bd3786\"],[0.5555555555555556,\"#d8576b\"],[0.6666666666666666,\"#ed7953\"],[0.7777777777777778,\"#fb9f3a\"],[0.8888888888888888,\"#fdca26\"],[1.0,\"#f0f921\"]]}],\"surface\":[{\"type\":\"surface\",\"colorbar\":{\"outlinewidth\":0,\"ticks\":\"\"},\"colorscale\":[[0.0,\"#0d0887\"],[0.1111111111111111,\"#46039f\"],[0.2222222222222222,\"#7201a8\"],[0.3333333333333333,\"#9c179e\"],[0.4444444444444444,\"#bd3786\"],[0.5555555555555556,\"#d8576b\"],[0.6666666666666666,\"#ed7953\"],[0.7777777777777778,\"#fb9f3a\"],[0.8888888888888888,\"#fdca26\"],[1.0,\"#f0f921\"]]}],\"mesh3d\":[{\"type\":\"mesh3d\",\"colorbar\":{\"outlinewidth\":0,\"ticks\":\"\"}}],\"scatter\":[{\"fillpattern\":{\"fillmode\":\"overlay\",\"size\":10,\"solidity\":0.2},\"type\":\"scatter\"}],\"parcoords\":[{\"type\":\"parcoords\",\"line\":{\"colorbar\":{\"outlinewidth\":0,\"ticks\":\"\"}}}],\"scatterpolargl\":[{\"type\":\"scatterpolargl\",\"marker\":{\"colorbar\":{\"outlinewidth\":0,\"ticks\":\"\"}}}],\"bar\":[{\"error_x\":{\"color\":\"#2a3f5f\"},\"error_y\":{\"color\":\"#2a3f5f\"},\"marker\":{\"line\":{\"color\":\"#E5ECF6\",\"width\":0.5},\"pattern\":{\"fillmode\":\"overlay\",\"size\":10,\"solidity\":0.2}},\"type\":\"bar\"}],\"scattergeo\":[{\"type\":\"scattergeo\",\"marker\":{\"colorbar\":{\"outlinewidth\":0,\"ticks\":\"\"}}}],\"scatterpolar\":[{\"type\":\"scatterpolar\",\"marker\":{\"colorbar\":{\"outlinewidth\":0,\"ticks\":\"\"}}}],\"histogram\":[{\"marker\":{\"pattern\":{\"fillmode\":\"overlay\",\"size\":10,\"solidity\":0.2}},\"type\":\"histogram\"}],\"scattergl\":[{\"type\":\"scattergl\",\"marker\":{\"colorbar\":{\"outlinewidth\":0,\"ticks\":\"\"}}}],\"scatter3d\":[{\"type\":\"scatter3d\",\"line\":{\"colorbar\":{\"outlinewidth\":0,\"ticks\":\"\"}},\"marker\":{\"colorbar\":{\"outlinewidth\":0,\"ticks\":\"\"}}}],\"scattermapbox\":[{\"type\":\"scattermapbox\",\"marker\":{\"colorbar\":{\"outlinewidth\":0,\"ticks\":\"\"}}}],\"scatterternary\":[{\"type\":\"scatterternary\",\"marker\":{\"colorbar\":{\"outlinewidth\":0,\"ticks\":\"\"}}}],\"scattercarpet\":[{\"type\":\"scattercarpet\",\"marker\":{\"colorbar\":{\"outlinewidth\":0,\"ticks\":\"\"}}}],\"carpet\":[{\"aaxis\":{\"endlinecolor\":\"#2a3f5f\",\"gridcolor\":\"white\",\"linecolor\":\"white\",\"minorgridcolor\":\"white\",\"startlinecolor\":\"#2a3f5f\"},\"baxis\":{\"endlinecolor\":\"#2a3f5f\",\"gridcolor\":\"white\",\"linecolor\":\"white\",\"minorgridcolor\":\"white\",\"startlinecolor\":\"#2a3f5f\"},\"type\":\"carpet\"}],\"table\":[{\"cells\":{\"fill\":{\"color\":\"#EBF0F8\"},\"line\":{\"color\":\"white\"}},\"header\":{\"fill\":{\"color\":\"#C8D4E3\"},\"line\":{\"color\":\"white\"}},\"type\":\"table\"}],\"barpolar\":[{\"marker\":{\"line\":{\"color\":\"#E5ECF6\",\"width\":0.5},\"pattern\":{\"fillmode\":\"overlay\",\"size\":10,\"solidity\":0.2}},\"type\":\"barpolar\"}],\"pie\":[{\"automargin\":true,\"type\":\"pie\"}]},\"layout\":{\"autotypenumbers\":\"strict\",\"colorway\":[\"#636efa\",\"#EF553B\",\"#00cc96\",\"#ab63fa\",\"#FFA15A\",\"#19d3f3\",\"#FF6692\",\"#B6E880\",\"#FF97FF\",\"#FECB52\"],\"font\":{\"color\":\"#2a3f5f\"},\"hovermode\":\"closest\",\"hoverlabel\":{\"align\":\"left\"},\"paper_bgcolor\":\"white\",\"plot_bgcolor\":\"#E5ECF6\",\"polar\":{\"bgcolor\":\"#E5ECF6\",\"angularaxis\":{\"gridcolor\":\"white\",\"linecolor\":\"white\",\"ticks\":\"\"},\"radialaxis\":{\"gridcolor\":\"white\",\"linecolor\":\"white\",\"ticks\":\"\"}},\"ternary\":{\"bgcolor\":\"#E5ECF6\",\"aaxis\":{\"gridcolor\":\"white\",\"linecolor\":\"white\",\"ticks\":\"\"},\"baxis\":{\"gridcolor\":\"white\",\"linecolor\":\"white\",\"ticks\":\"\"},\"caxis\":{\"gridcolor\":\"white\",\"linecolor\":\"white\",\"ticks\":\"\"}},\"coloraxis\":{\"colorbar\":{\"outlinewidth\":0,\"ticks\":\"\"}},\"colorscale\":{\"sequential\":[[0.0,\"#0d0887\"],[0.1111111111111111,\"#46039f\"],[0.2222222222222222,\"#7201a8\"],[0.3333333333333333,\"#9c179e\"],[0.4444444444444444,\"#bd3786\"],[0.5555555555555556,\"#d8576b\"],[0.6666666666666666,\"#ed7953\"],[0.7777777777777778,\"#fb9f3a\"],[0.8888888888888888,\"#fdca26\"],[1.0,\"#f0f921\"]],\"sequentialminus\":[[0.0,\"#0d0887\"],[0.1111111111111111,\"#46039f\"],[0.2222222222222222,\"#7201a8\"],[0.3333333333333333,\"#9c179e\"],[0.4444444444444444,\"#bd3786\"],[0.5555555555555556,\"#d8576b\"],[0.6666666666666666,\"#ed7953\"],[0.7777777777777778,\"#fb9f3a\"],[0.8888888888888888,\"#fdca26\"],[1.0,\"#f0f921\"]],\"diverging\":[[0,\"#8e0152\"],[0.1,\"#c51b7d\"],[0.2,\"#de77ae\"],[0.3,\"#f1b6da\"],[0.4,\"#fde0ef\"],[0.5,\"#f7f7f7\"],[0.6,\"#e6f5d0\"],[0.7,\"#b8e186\"],[0.8,\"#7fbc41\"],[0.9,\"#4d9221\"],[1,\"#276419\"]]},\"xaxis\":{\"gridcolor\":\"white\",\"linecolor\":\"white\",\"ticks\":\"\",\"title\":{\"standoff\":15},\"zerolinecolor\":\"white\",\"automargin\":true,\"zerolinewidth\":2},\"yaxis\":{\"gridcolor\":\"white\",\"linecolor\":\"white\",\"ticks\":\"\",\"title\":{\"standoff\":15},\"zerolinecolor\":\"white\",\"automargin\":true,\"zerolinewidth\":2},\"scene\":{\"xaxis\":{\"backgroundcolor\":\"#E5ECF6\",\"gridcolor\":\"white\",\"linecolor\":\"white\",\"showbackground\":true,\"ticks\":\"\",\"zerolinecolor\":\"white\",\"gridwidth\":2},\"yaxis\":{\"backgroundcolor\":\"#E5ECF6\",\"gridcolor\":\"white\",\"linecolor\":\"white\",\"showbackground\":true,\"ticks\":\"\",\"zerolinecolor\":\"white\",\"gridwidth\":2},\"zaxis\":{\"backgroundcolor\":\"#E5ECF6\",\"gridcolor\":\"white\",\"linecolor\":\"white\",\"showbackground\":true,\"ticks\":\"\",\"zerolinecolor\":\"white\",\"gridwidth\":2}},\"shapedefaults\":{\"line\":{\"color\":\"#2a3f5f\"}},\"annotationdefaults\":{\"arrowcolor\":\"#2a3f5f\",\"arrowhead\":0,\"arrowwidth\":1},\"geo\":{\"bgcolor\":\"white\",\"landcolor\":\"#E5ECF6\",\"subunitcolor\":\"white\",\"showland\":true,\"showlakes\":true,\"lakecolor\":\"white\"},\"title\":{\"x\":0.05},\"mapbox\":{\"style\":\"light\"}}},\"xaxis\":{\"showgrid\":false,\"categoryorder\":\"total descending\"},\"yaxis\":{\"showgrid\":false},\"barmode\":\"stack\",\"title\":{\"text\":\"Top 20 Countries by PM2.5 Pollution Levels\"}},                        {\"responsive\": true}                    ).then(function(){\n",
              "                            \n",
              "var gd = document.getElementById('f1099e60-e20a-4935-9918-3f12d41e46f6');\n",
              "var x = new MutationObserver(function (mutations, observer) {{\n",
              "        var display = window.getComputedStyle(gd).display;\n",
              "        if (!display || display === 'none') {{\n",
              "            console.log([gd, 'removed!']);\n",
              "            Plotly.purge(gd);\n",
              "            observer.disconnect();\n",
              "        }}\n",
              "}});\n",
              "\n",
              "// Listen for the removal of the full notebook cells\n",
              "var notebookContainer = gd.closest('#notebook-container');\n",
              "if (notebookContainer) {{\n",
              "    x.observe(notebookContainer, {childList: true});\n",
              "}}\n",
              "\n",
              "// Listen for the clearing of the current output cell\n",
              "var outputEl = gd.closest('.output');\n",
              "if (outputEl) {{\n",
              "    x.observe(outputEl, {childList: true});\n",
              "}}\n",
              "\n",
              "                        })                };                            </script>        </div>\n",
              "</body>\n",
              "</html>"
            ]
          },
          "metadata": {}
        }
      ]
    }
  ]
}